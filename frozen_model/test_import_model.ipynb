{
 "cells": [
  {
   "cell_type": "code",
   "execution_count": 1,
   "metadata": {},
   "outputs": [],
   "source": [
    "import joblib\n",
    "\n",
    "model = joblib.load('sent_model.pkl')\n",
    "scaler_fit = joblib.load('scaler_model.pkl')\n",
    "tfidf_fit = joblib.load('tfidf_model.pkl')"
   ]
  },
  {
   "cell_type": "code",
   "execution_count": 3,
   "metadata": {},
   "outputs": [
    {
     "data": {
      "text/plain": [
       "'\\nfrom sklearn.feature_extraction.text import TfidfVectorizer\\nfrom sklearn.linear_model import LogisticRegression\\n\\nimport numpy as np\\nimport pandas as pd\\n\\nfrom pythainlp import word_tokenize\\nfrom tqdm import tqdm_notebook\\nfrom pythainlp.ulmfit import process_thai\\n\\n#viz\\nimport matplotlib.pyplot as plt\\nimport seaborn as sns\\n\\nall_df = pd.read_csv(\\'all_df.csv\\')\\nall_df[\"processed\"] = all_df.texts.map(lambda x: \"|\".join(process_thai(x)))\\nall_df[\"wc\"] = all_df.processed.map(lambda x: len(x.split(\"|\")))\\nall_df[\"uwc\"] = all_df.processed.map(lambda x: len(set(x.split(\"|\"))))\\n\\ntfidf = TfidfVectorizer(tokenizer=process_thai, ngram_range=(1,2), min_df=20, sublinear_tf=True)\\ntfidf_fit = tfidf.fit(all_df[\"texts\"])\\n'"
      ]
     },
     "execution_count": 3,
     "metadata": {},
     "output_type": "execute_result"
    }
   ],
   "source": [
    "'''\n",
    "from sklearn.feature_extraction.text import TfidfVectorizer\n",
    "from sklearn.linear_model import LogisticRegression\n",
    "\n",
    "import numpy as np\n",
    "import pandas as pd\n",
    "\n",
    "from pythainlp import word_tokenize\n",
    "from tqdm import tqdm_notebook\n",
    "from pythainlp.ulmfit import process_thai\n",
    "\n",
    "#viz\n",
    "import matplotlib.pyplot as plt\n",
    "import seaborn as sns\n",
    "\n",
    "all_df = pd.read_csv('all_df.csv')\n",
    "all_df[\"processed\"] = all_df.texts.map(lambda x: \"|\".join(process_thai(x)))\n",
    "all_df[\"wc\"] = all_df.processed.map(lambda x: len(x.split(\"|\")))\n",
    "all_df[\"uwc\"] = all_df.processed.map(lambda x: len(set(x.split(\"|\"))))\n",
    "\n",
    "tfidf = TfidfVectorizer(tokenizer=process_thai, ngram_range=(1,2), min_df=20, sublinear_tf=True)\n",
    "tfidf_fit = tfidf.fit(all_df[\"texts\"])\n",
    "'''"
   ]
  },
  {
   "cell_type": "code",
   "execution_count": 4,
   "metadata": {},
   "outputs": [
    {
     "data": {
      "text/plain": [
       "'\\nfrom sklearn.preprocessing import StandardScaler\\n\\nscaler = StandardScaler()\\nscaler_fit = scaler.fit(all_df[[\"wc\",\"uwc\"]].astype(float))\\n'"
      ]
     },
     "execution_count": 4,
     "metadata": {},
     "output_type": "execute_result"
    }
   ],
   "source": [
    "'''\n",
    "from sklearn.preprocessing import StandardScaler\n",
    "\n",
    "scaler = StandardScaler()\n",
    "scaler_fit = scaler.fit(all_df[[\"wc\",\"uwc\"]].astype(float))\n",
    "'''"
   ]
  },
  {
   "cell_type": "code",
   "execution_count": 4,
   "metadata": {},
   "outputs": [
    {
     "data": {
      "text/html": [
       "<div>\n",
       "<style scoped>\n",
       "    .dataframe tbody tr th:only-of-type {\n",
       "        vertical-align: middle;\n",
       "    }\n",
       "\n",
       "    .dataframe tbody tr th {\n",
       "        vertical-align: top;\n",
       "    }\n",
       "\n",
       "    .dataframe thead th {\n",
       "        text-align: right;\n",
       "    }\n",
       "</style>\n",
       "<table border=\"1\" class=\"dataframe\">\n",
       "  <thead>\n",
       "    <tr style=\"text-align: right;\">\n",
       "      <th></th>\n",
       "      <th>neg</th>\n",
       "      <th>neu</th>\n",
       "      <th>pos</th>\n",
       "      <th>pred</th>\n",
       "      <th>texts</th>\n",
       "      <th>processed</th>\n",
       "      <th>wc</th>\n",
       "      <th>uwc</th>\n",
       "    </tr>\n",
       "  </thead>\n",
       "  <tbody>\n",
       "    <tr>\n",
       "      <th>0</th>\n",
       "      <td>0.238789</td>\n",
       "      <td>0.558523</td>\n",
       "      <td>0.202688</td>\n",
       "      <td>neu</td>\n",
       "      <td>เราจะทำตามสัญญาขอเวลาอีกนิดนึงนะจ๊ะ</td>\n",
       "      <td>เรา|จะ|ทำตาม|สัญญา|ขอเวลา|อีก|นิดนึง|นะจ๊ะ</td>\n",
       "      <td>8</td>\n",
       "      <td>8</td>\n",
       "    </tr>\n",
       "  </tbody>\n",
       "</table>\n",
       "</div>"
      ],
      "text/plain": [
       "        neg       neu       pos pred                                texts  \\\n",
       "0  0.238789  0.558523  0.202688  neu  เราจะทำตามสัญญาขอเวลาอีกนิดนึงนะจ๊ะ   \n",
       "\n",
       "                                    processed  wc  uwc  \n",
       "0  เรา|จะ|ทำตาม|สัญญา|ขอเวลา|อีก|นิดนึง|นะจ๊ะ   8    8  "
      ]
     },
     "execution_count": 4,
     "metadata": {},
     "output_type": "execute_result"
    }
   ],
   "source": [
    "import pandas as pd\n",
    "import numpy as np\n",
    "from pythainlp.ulmfit import process_thai\n",
    "\n",
    "test_input = pd.DataFrame({\"texts\":[\"เราจะทำตามสัญญาขอเวลาอีกนิดนึงนะจ๊ะ\"]})\n",
    "test_input[\"processed\"] = test_input.texts.map(lambda x: \"|\".join(process_thai(x)))\n",
    "test_input[\"wc\"] = test_input.processed.map(lambda x: len(x.split(\"|\")))\n",
    "test_input[\"uwc\"] = test_input.processed.map(lambda x: len(set(x.split(\"|\"))))\n",
    "\n",
    "tf_input = tfidf_fit.transform(test_input[\"texts\"])\n",
    "\n",
    "num_input = scaler_fit.transform(test_input[[\"wc\",\"uwc\"]].astype(float))\n",
    "\n",
    "t_input =  np.concatenate([num_input,tf_input.toarray()],axis=1)\n",
    "\n",
    "output_pd = pd.DataFrame(model.predict_proba(t_input))\n",
    "output_pd.columns = model.classes_\n",
    "output_pd[\"pred\"] = model.predict(t_input)\n",
    "output_pd[\"texts\"] = test_input.texts\n",
    "output_pd[\"processed\"] = test_input.processed\n",
    "output_pd[\"wc\"] = test_input.wc\n",
    "output_pd[\"uwc\"] = test_input.uwc\n",
    "\n",
    "output_pd"
   ]
  },
  {
   "cell_type": "code",
   "execution_count": null,
   "metadata": {},
   "outputs": [],
   "source": []
  }
 ],
 "metadata": {
  "kernelspec": {
   "display_name": "Python 3",
   "language": "python",
   "name": "python3"
  },
  "language_info": {
   "codemirror_mode": {
    "name": "ipython",
    "version": 3
   },
   "file_extension": ".py",
   "mimetype": "text/x-python",
   "name": "python",
   "nbconvert_exporter": "python",
   "pygments_lexer": "ipython3",
   "version": "3.6.2"
  }
 },
 "nbformat": 4,
 "nbformat_minor": 4
}
